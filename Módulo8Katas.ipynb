{
 "cells": [
  {
   "cell_type": "code",
   "execution_count": 8,
   "metadata": {},
   "outputs": [
    {
     "name": "stdout",
     "output_type": "stream",
     "text": [
      "Ejercicio 1: Creación de diccionarios de Python\n",
      "Marte tiene 2 lunas\n",
      "Marte tiene una circunferencia polar de  6752\n",
      "Ejercicio 2: Programación dinámica con diccionarios\n",
      "Asi esta conformado nuestro arreglo Planeta: cantidad de lunas :{'mercury': 0, 'venus': 0, 'earth': 1, 'mars': 2, 'jupiter': 79, 'saturn': 82, 'uranus': 27, 'neptune': 14, 'pluto': 5, 'haumea': 2, 'makemake': 1, 'eris': 1}\n",
      "Total de lunas0\n",
      "Total de lunas0\n",
      "Total de lunas1\n",
      "Total de lunas3\n",
      "Total de lunas82\n",
      "Total de lunas164\n",
      "Total de lunas191\n",
      "Total de lunas205\n",
      "Total de lunas210\n",
      "Total de lunas212\n",
      "Total de lunas213\n",
      "Total de lunas214\n",
      "El promedio de lunas es de:17.833333333333332\n"
     ]
    }
   ],
   "source": [
    "print(\"Ejercicio 1: Creación de diccionarios de Python\")\n",
    "planet = {\n",
    "    'nombre': 'Marte',\n",
    "    'lunas': 2\n",
    "}\n",
    "print(f'{planet[\"nombre\"]} tiene {planet[\"lunas\"]} lunas')\n",
    "planet['circunferencia (km)'] = {\n",
    "    'polar': 6752,\n",
    "    'ecuatorial': 6792\n",
    "}\n",
    "print(f'{planet[\"nombre\"]} tiene una circunferencia polar de  {planet[\"circunferencia (km)\"][\"polar\"]}')\n",
    "\n",
    "\n",
    "print(\"Ejercicio 2: Programación dinámica con diccionarios\")\n",
    "planet_moons = {\n",
    "    'mercury': 0,\n",
    "    'venus': 0,\n",
    "    'earth': 1,\n",
    "    'mars': 2,\n",
    "    'jupiter': 79,\n",
    "    'saturn': 82,\n",
    "    'uranus': 27,\n",
    "    'neptune': 14,\n",
    "    'pluto': 5,\n",
    "    'haumea': 2,\n",
    "    'makemake': 1,\n",
    "    'eris': 1\n",
    "}\n",
    "print(\"Asi esta conformado nuestro arreglo Planeta: cantidad de lunas :\"+str(planet_moons))\n",
    "moons = planet_moons.values()\n",
    "\n",
    "planets = len(planet_moons.keys())\n",
    "total_moons = 0\n",
    "for moon in moons:\n",
    "    total_moons = total_moons + moon\n",
    "    print(\"Total de lunas\" +str(total_moons))\n",
    "\n",
    "average = total_moons / planets\n",
    "\n",
    "\n",
    "print(\"El promedio de lunas es de:\" +str(average))"
   ]
  }
 ],
 "metadata": {
  "interpreter": {
   "hash": "6d789933423f2026dd762f632057f7ae59cc19f3153fdbf8a64e7992d654ea7e"
  },
  "kernelspec": {
   "display_name": "Python 3.10.2 64-bit",
   "language": "python",
   "name": "python3"
  },
  "language_info": {
   "codemirror_mode": {
    "name": "ipython",
    "version": 3
   },
   "file_extension": ".py",
   "mimetype": "text/x-python",
   "name": "python",
   "nbconvert_exporter": "python",
   "pygments_lexer": "ipython3",
   "version": "3.10.2"
  },
  "orig_nbformat": 4
 },
 "nbformat": 4,
 "nbformat_minor": 2
}
